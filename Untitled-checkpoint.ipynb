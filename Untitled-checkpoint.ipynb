{
 "cells": [
  {
   "cell_type": "code",
   "execution_count": 2,
   "metadata": {},
   "outputs": [
    {
     "name": "stdout",
     "output_type": "stream",
     "text": [
      "crane 1.0\n",
      "kimera 11.0\n",
      "octopus 7.0\n",
      "turtle 2.0\n",
      "最小総費用 5690.0\n",
      "-----------------------------------------------\n",
      "輸送経路\n",
      " 80.0 を factory  1 → warehouse 1 → customer  1\n",
      "270.0 を factory  1 → warehouse 1 → customer  2\n",
      "250.0 を factory  2 → warehouse 2 → customer  3\n",
      "160.0 を factory  2 → warehouse 2 → customer  4\n",
      " 90.0 を factory  2 → warehouse 2 → customer  5\n",
      " 90.0 を factory  3 → warehouse 2 → customer  5\n",
      "-----------------------------------------------\n",
      "    Const. Name:    Slack , Dual\n",
      "      Demand(1):     -0.0 ,  5.0\n",
      "      Demand(2):     -0.0 ,  6.0\n",
      "      Demand(3):     -0.0 ,  5.0\n",
      "      Demand(4):     -0.0 ,  7.0\n",
      "      Demand(5):     -0.0 , 10.0\n",
      "    Capacity(1):    150.0 ,  0.0\n",
      "    Capacity(2):     -0.0 , -1.0\n",
      "    Capacity(3):    410.0 ,  0.0\n"
     ]
    }
   ],
   "source": [
    "\n",
    "from mypulp import *\n",
    "m22=Model(\"22\")\n",
    "x1=m22.addVar(vtype=\"I\",name=\"crane\")\n",
    "x2=m22.addVar(vtype=\"I\",name=\"turtle\")\n",
    "x3=m22.addVar(vtype=\"I\",name=\"octopus\")\n",
    "x4=m22.addVar(vtype=\"I\",name=\"kimera\")\n",
    "m22.update()\n",
    "m22.addConstr(x1+x2+x3+2*x4==32)\n",
    "m22.addConstr(2*x1+4*x2+8*x3+3*x4==99)\n",
    "m22.setObjective(x1+x2+x3+x4,GRB.MINIMIZE)\n",
    "m22.optimize()\n",
    "for v in m22.getVars():\n",
    "        print(v.VarName,v.X)\n",
    "\n",
    "factory,factory_max_capacity = multidict({1:500,2:500,3:500})\n",
    "warehouse=(1,2)\n",
    "customer,customerdemand= multidict({1:80, 2:270, 3:250 , 4:160, 5:180})\n",
    "factory_warehouse= {(1,1):1,(1,2):3,(2,1):2,(2,2):1,(3,1):3,(3,2):2}\n",
    "warehouse_customer={(1,1):4,(1,2):5,(1,3):6,(1,4):8,(1,5):10,\n",
    "                    (2,1):6,(2,2):4,(2,3):3,(2,4):5,(2,5):8}\n",
    "L=[]\n",
    "for i in factory:\n",
    "    for s in warehouse:\n",
    "        for t in customer:\n",
    "            L.append([(i,s,t),factory_warehouse[i,s]+warehouse_customer[s,t]])\n",
    "a=dict(L)\n",
    "#print(a)\n",
    "model=Model(\"23\")\n",
    "x={}\n",
    "for i in factory:\n",
    "    for s in warehouse:\n",
    "        for t in customer:\n",
    "            x[i,s,t]=model.addVar(vtype=\"C\",name='x({0},{1},{2})'.format(i,s,t))\n",
    "model.update()\n",
    "for t in customer:\n",
    "    model.addConstr(quicksum(x[i,s,t] for s in warehouse for i in factory) == customerdemand[t],\n",
    "                    name=\"Demand({0})\".format(t))\n",
    "for i in factory:\n",
    "    model.addConstr(quicksum(x[i,s,t] for s in warehouse for t in customer) <= factory_max_capacity[i],\n",
    "                   name='Capacity({0})'.format(i))\n",
    "model.setObjective(quicksum(a[i,s,t]*x[i,s,t] for (i,s,t) in x),GRB.MINIMIZE)\n",
    "\n",
    "model.optimize()\n",
    "print(\"最小総費用\",model.ObjVal)\n",
    "print(\"-----------------------------------------------\")\n",
    "print(\"輸送経路\")\n",
    "EPS = 1.e-6\n",
    "for (i,s,t) in x:\n",
    "    if x[i,s,t].X > EPS:\n",
    "        print('{0:>5} を factory {1:>2} → warehouse{2:>2} → customer{3:>3}'.format(x[i,s,t].X,i,s,t) )\n",
    "print(\"-----------------------------------------------\")\n",
    "print ('{0:>15}: {1:>8} , {2:>4}'.format('Const. Name', 'Slack', 'Dual'))\n",
    "for c in model.getConstrs():\n",
    "    print ('{0:>15}: {1:>8} , {2:>4}'.format(c.ConstrName,c.Slack,c.Pi))\n"
   ]
  },
  {
   "cell_type": "code",
   "execution_count": null,
   "metadata": {},
   "outputs": [],
   "source": []
  }
 ],
 "metadata": {
  "kernelspec": {
   "display_name": "Python 3",
   "language": "python",
   "name": "python3"
  },
  "language_info": {
   "codemirror_mode": {
    "name": "ipython",
    "version": 3
   },
   "file_extension": ".py",
   "mimetype": "text/x-python",
   "name": "python",
   "nbconvert_exporter": "python",
   "pygments_lexer": "ipython3",
   "version": "3.6.4"
  }
 },
 "nbformat": 4,
 "nbformat_minor": 2
}
