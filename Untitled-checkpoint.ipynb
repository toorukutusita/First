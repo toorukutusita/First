{
 "cells": [
  {
   "cell_type": "code",
   "execution_count": 12,
   "metadata": {},
   "outputs": [
    {
     "ename": "SyntaxError",
     "evalue": "(unicode error) 'unicodeescape' codec can't decode bytes in position 2-3: truncated \\UXXXXXXXX escape (<ipython-input-12-ec24bcf19ed9>, line 9)",
     "output_type": "error",
     "traceback": [
      "\u001b[1;36m  File \u001b[1;32m\"<ipython-input-12-ec24bcf19ed9>\"\u001b[1;36m, line \u001b[1;32m9\u001b[0m\n\u001b[1;33m    df=pd.read_excel(\"C:\\Users\\shohei\\Downloads\\github.xlsx\")\u001b[0m\n\u001b[1;37m                    ^\u001b[0m\n\u001b[1;31mSyntaxError\u001b[0m\u001b[1;31m:\u001b[0m (unicode error) 'unicodeescape' codec can't decode bytes in position 2-3: truncated \\UXXXXXXXX escape\n"
     ]
    }
   ],
   "source": [
    "#線形計画法\n",
    "#あなたは、スポーツ用品販売チェーンのオーナーだ。あなたは、店舗展開をしている5つの顧客（需要地点）に対して、3つの自社工場で生産した1種類の\n",
    "#製品を運ぶ必要がある。工場の生産可能量（容量）と顧客の需要量は11.2のようになっている。ただし、工場から顧客へ製品を輸送する際は必ず２箇所\n",
    "#の倉庫のいずれかを経由しなければならない。工場と倉庫間、倉庫と顧客間の輸送費用は、表11.3のようになっているとしたとき、どのような輸送経路\n",
    "#を選択すれば、総費用が最小になるであろうか。\n",
    "\n",
    "import pandas as pd\n",
    "\n",
    "df=pd.read_excel(\"C:\\Users\\shohei\\Downloads\\github.xlsx\")\n",
    "print(df.to_excel(\"C:\\Users\\shohei\\Downloads\\github.xlsx\"))\n",
    "\n",
    "\n",
    "from mypulp import *\n",
    "m22=Model(\"22\")\n",
    "x1=m22.addVar(vtype=\"I\",name=\"crane\")\n",
    "x2=m22.addVar(vtype=\"I\",name=\"turtle\")\n",
    "x3=m22.addVar(vtype=\"I\",name=\"octopus\")\n",
    "x4=m22.addVar(vtype=\"I\",name=\"kimera\")\n",
    "m22.update()\n",
    "m22.addConstr(x1+x2+x3+2*x4==32)\n",
    "m22.addConstr(2*x1+4*x2+8*x3+3*x4==99)\n",
    "m22.setObjective(x1+x2+x3+x4,GRB.MINIMIZE)\n",
    "m22.optimize()\n",
    "for v in m22.getVars():\n",
    "        print(v.VarName,v.X)\n",
    "\n",
    "factory,factory_max_capacity = multidict({1:500,2:500,3:500})\n",
    "warehouse=(1,2)\n",
    "customer,customerdemand= multidict({1:80, 2:270, 3:250 , 4:160, 5:180})\n",
    "factory_warehouse= {(1,1):1,(1,2):3,(2,1):2,(2,2):1,(3,1):3,(3,2):2}\n",
    "warehouse_customer={(1,1):4,(1,2):5,(1,3):6,(1,4):8,(1,5):10,\n",
    "                    (2,1):6,(2,2):4,(2,3):3,(2,4):5,(2,5):8}\n",
    "L=[]\n",
    "for i in factory:\n",
    "    for s in warehouse:\n",
    "        for t in customer:\n",
    "            L.append([(i,s,t),factory_warehouse[i,s]+warehouse_customer[s,t]])\n",
    "a=dict(L)\n",
    "#print(a)\n",
    "model=Model(\"23\")\n",
    "x={}\n",
    "for i in factory:\n",
    "    for s in warehouse:\n",
    "        for t in customer:\n",
    "            x[i,s,t]=model.addVar(vtype=\"C\",name='x({0},{1},{2})'.format(i,s,t))\n",
    "model.update()\n",
    "for t in customer:\n",
    "    model.addConstr(quicksum(x[i,s,t] for s in werehouse for i in factory) == customerdemand[t],\n",
    "                    name=\"Demand({0})\".format(t))\n",
    "for i in factory:\n",
    "    model.addConstr(quicksum(x[i,s,t] for s in werehouse for t in customer) <= factory_max_capacity[i],\n",
    "                   name='Capacity({0})'.format(i))\n",
    "model.setObjective(quicksum(a[i,s,t]*x[i,s,t] for (i,s,t) in x),GRB.MINIMIZE)\n",
    "\n",
    "model.optimize()\n",
    "print(\"最小総費用\",model.ObjVal)\n",
    "print(\"-----------------------------------------------\")\n",
    "print(\"輸送経路\")\n",
    "EPS = 1.e-6\n",
    "for (i,s,t) in x:\n",
    "    if x[i,s,t].X > EPS:\n",
    "        print('{0:>5} を factory {1:>2} → warehouse{2:>2} → customer{3:>3}'.format(x[i,s,t].X,i,s,t) )\n",
    "print(\"-----------------------------------------------\")\n",
    "print ('{0:>15}: {1:>8} , {2:>4}'.format('Const. Name', 'Slack', 'Dual'))\n",
    "for c in model.getConstrs():\n",
    "    print ('{0:>15}: {1:>8} , {2:>4}'.format(c.ConstrName,c.Slack,c.Pi))\n"
   ]
  },
  {
   "cell_type": "code",
   "execution_count": null,
   "metadata": {},
   "outputs": [],
   "source": []
  }
 ],
 "metadata": {
  "kernelspec": {
   "display_name": "Python 3",
   "language": "python",
   "name": "python3"
  },
  "language_info": {
   "codemirror_mode": {
    "name": "ipython",
    "version": 3
   },
   "file_extension": ".py",
   "mimetype": "text/x-python",
   "name": "python",
   "nbconvert_exporter": "python",
   "pygments_lexer": "ipython3",
   "version": "3.6.4"
  }
 },
 "nbformat": 4,
 "nbformat_minor": 2
}
