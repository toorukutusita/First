{
 "cells": [
  {
   "cell_type": "markdown",
   "metadata": {},
   "source": [
    "# ヒープを作ろう\n",
    "- 次回の演習開始時に印刷して提出"
   ]
  },
  {
   "cell_type": "code",
   "execution_count": 20,
   "metadata": {},
   "outputs": [
    {
     "name": "stdout",
     "output_type": "stream",
     "text": [
      "[4, 7, 4, 9, 7, 4, 11, 12, 10, 13]\n"
     ]
    },
    {
     "ename": "TypeError",
     "evalue": "insert() takes 1 positional argument but 2 were given",
     "output_type": "error",
     "traceback": [
      "\u001b[1;31m---------------------------------------------------------------------------\u001b[0m",
      "\u001b[1;31mTypeError\u001b[0m                                 Traceback (most recent call last)",
      "\u001b[1;32m<ipython-input-20-da239daf7660>\u001b[0m in \u001b[0;36m<module>\u001b[1;34m()\u001b[0m\n\u001b[0;32m     33\u001b[0m \u001b[0mh\u001b[0m\u001b[1;33m=\u001b[0m\u001b[0mheap\u001b[0m\u001b[1;33m(\u001b[0m\u001b[1;33m)\u001b[0m\u001b[1;33m\u001b[0m\u001b[0m\n\u001b[0;32m     34\u001b[0m \u001b[0mprint\u001b[0m\u001b[1;33m(\u001b[0m\u001b[0mh\u001b[0m\u001b[1;33m)\u001b[0m\u001b[1;33m\u001b[0m\u001b[0m\n\u001b[1;32m---> 35\u001b[1;33m \u001b[0mh\u001b[0m\u001b[1;33m.\u001b[0m\u001b[0minsert\u001b[0m\u001b[1;33m(\u001b[0m\u001b[1;36m5\u001b[0m\u001b[1;33m)\u001b[0m\u001b[1;33m\u001b[0m\u001b[0m\n\u001b[0m\u001b[0;32m     36\u001b[0m \u001b[0mprint\u001b[0m\u001b[1;33m(\u001b[0m\u001b[0mh\u001b[0m\u001b[1;33m)\u001b[0m\u001b[1;33m\u001b[0m\u001b[0m\n",
      "\u001b[1;31mTypeError\u001b[0m: insert() takes 1 positional argument but 2 were given"
     ]
    }
   ],
   "source": [
    "class heap(object):\n",
    "    def __init__(self):  #%2-1\n",
    "        self.H=[]\n",
    "        #self.H=[4,7,4,9,7,4,11,12,10,13]\n",
    "        self.H=[]\n",
    "\n",
    "    def parent(self,node): # node番の親の番号\n",
    "        p=((node+1)//2)-1\n",
    "        if p >= 0:\n",
    "            return p\n",
    "        else:\n",
    "            return None\n",
    "\n",
    "    def insert(self,key): # insertを実装せよ\n",
    "        self.H.append(key)\n",
    "        print(key)\n",
    "        node = len(self.H)-1\n",
    "        while self.parent(node)!=None:\n",
    "            p=self.parent(node)\n",
    "            if self.H[node]<self.H[p]:\n",
    "                self.H[p],self.H[node]=self.H[node],self.H[p]  #list[i],list[j] = list[j],list[i]\n",
    "                node=p\n",
    "            else:\n",
    "                return \n",
    "                \n",
    "                \n",
    "        return\n",
    "                \n",
    "    def deletemin(self): # deleteminを実装せよ\n",
    "        if len(self.H)==0:\n",
    "            return None\n",
    "        result=self.H[0]\n",
    "        key=self.H.pop()\n",
    "        \n",
    "        if len(self.H)==0:\n",
    "            return result\n",
    "        self.H[0]=key\n",
    "        node=0\n",
    "        \n",
    "        while True:\n",
    "            left_child=2*node+1\n",
    "            right_child=2*node+2\n",
    "            ......\n",
    "            \n",
    "            \n",
    "            \n",
    "        return\n",
    "            \n",
    "    def __str__(self):\n",
    "        return str(self.H)\n",
    "h=heap()\n",
    "print(h)\n",
    "h.insert(5)\n",
    "print(h)"
   ]
  },
  {
   "cell_type": "markdown",
   "metadata": {},
   "source": [
    "## ヒープソート"
   ]
  },
  {
   "cell_type": "code",
   "execution_count": null,
   "metadata": {
    "collapsed": true
   },
   "outputs": [],
   "source": [
    "def heap_sort(numbers):\n",
    "    h=heap()\n",
    "    for i in range(len(numbers)):\n",
    "        h.insert(numbers[i])\n",
    "\n",
    "    sorted_numbers=[]\n",
    "    for i in range(numbers):\n",
    "        k=h.deletemin()\n",
    "        sorted_numbers.append(k)\n",
    "    return sorted_numbers"
   ]
  },
  {
   "cell_type": "markdown",
   "metadata": {},
   "source": [
    "## ヒープソートのテスト"
   ]
  },
  {
   "cell_type": "code",
   "execution_count": null,
   "metadata": {
    "collapsed": true
   },
   "outputs": [],
   "source": [
    "import random\n",
    "numbers = [random.random() for i in range(20)]\n",
    "\n",
    "r=heap_sort(numbers)\n",
    "print(r)"
   ]
  },
  {
   "cell_type": "markdown",
   "metadata": {},
   "source": [
    "## ヒープソートの実行時間をグラフに描画"
   ]
  },
  {
   "cell_type": "code",
   "execution_count": null,
   "metadata": {
    "collapsed": true
   },
   "outputs": [],
   "source": [
    "import random\n",
    "import time\n",
    "\n",
    "x,y=[],[]\n",
    "for n in range(100,10001,100):\n",
    "    rnd_list=[random.random() for i in range(n) ]\n",
    "    s=time.time()\n",
    "    heap_sort(rnd_list)\n",
    "    t=time.time()\n",
    "    x.append(n)\n",
    "    y.append(t-s)\n",
    "\n",
    "%matplotlib inline\n",
    "import matplotlib.pyplot as plt\n",
    "plt.plot(x,y)"
   ]
  },
  {
   "cell_type": "code",
   "execution_count": null,
   "metadata": {
    "collapsed": true
   },
   "outputs": [],
   "source": []
  }
 ],
 "metadata": {
  "kernelspec": {
   "display_name": "Python 3",
   "language": "python",
   "name": "python3"
  },
  "language_info": {
   "codemirror_mode": {
    "name": "ipython",
    "version": 3
   },
   "file_extension": ".py",
   "mimetype": "text/x-python",
   "name": "python",
   "nbconvert_exporter": "python",
   "pygments_lexer": "ipython3",
   "version": "3.6.4"
  }
 },
 "nbformat": 4,
 "nbformat_minor": 2
}
